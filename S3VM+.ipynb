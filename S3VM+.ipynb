{
 "cells": [
  {
   "cell_type": "code",
   "execution_count": null,
   "metadata": {},
   "outputs": [],
   "source": [
    "import numpy as np, pandas as pd, cvxpy as cp, cvxopt\n",
    "from collections import Counter\n",
    "from sklearn.metrics import confusion_matrix\n",
    "\n",
    "import cvxpy as cp"
   ]
  },
  {
   "cell_type": "markdown",
   "metadata": {},
   "source": [
    "## 1' import data "
   ]
  },
  {
   "cell_type": "code",
   "execution_count": null,
   "metadata": {},
   "outputs": [],
   "source": [
    "train = pd.concat([pd.read_csv(\"X_labeled.csv\"), pd.read_csv(\"y_labeled.csv\")],1,names =None)\n",
    "train = train.drop(train.columns[[0,56]],1)\n",
    "aux = pd.read_csv(\"X_unlabeled.csv\")\n",
    "aux = aux.drop(aux.columns[0],1)\n",
    "\n",
    "print(Counter(train[\"target\"]))\n",
    "print(aux.shape)\n",
    "print(train[train[\"school\"]==\"GP\"].shape)\n",
    "print(train[train[\"school\"]=='MS'].shape)\n",
    "print(aux[aux[\"school\"]==\"GP\"].shape)\n",
    "print(aux[aux[\"school\"]==\"MS\"].shape)"
   ]
  },
  {
   "cell_type": "markdown",
   "metadata": {},
   "source": [
    "## 2' Define Function S3VMplus"
   ]
  },
  {
   "cell_type": "code",
   "execution_count": null,
   "metadata": {},
   "outputs": [],
   "source": [
    "def S3VMplus(train,aux,C_pos,C_neg,gamma):\n",
    "    \n",
    "    F = train.shape[1]\n",
    "        \n",
    "    Xt1_pos = np.matrix(train[(train[\"target\"]==1) & (train[\"school\"]==\"GP\")].iloc[:,1:-1])\n",
    "    Yt1_pos = np.array(train[(train[\"target\"]==1) & (train[\"school\"]==\"GP\")].iloc[:,-1])\n",
    "    \n",
    "    Xt1_neg = np.matrix(train[(train[\"target\"]==-1) & (train[\"school\"]==\"GP\")].iloc[:,1:-1])\n",
    "    Yt1_neg = np.array(train[(train[\"target\"]==-1) & (train[\"school\"]==\"GP\")].iloc[:,-1])\n",
    "    \n",
    "    Xt2_pos = np.matrix(train[(train[\"target\"]==1) & (train[\"school\"]==\"MS\")].iloc[:,1:-1])\n",
    "    Yt2_pos = np.array(train[(train[\"target\"]==1) & (train[\"school\"]==\"MS\")].iloc[:,-1])\n",
    "    \n",
    "    Xt2_neg = np.matrix(train[(train[\"target\"]==-1) & (train[\"school\"]==\"MS\")].iloc[:,1:-1])\n",
    "    Yt2_neg = np.array(train[(train[\"target\"]==-1) & (train[\"school\"]==\"MS\")].iloc[:,-1])\n",
    "    \n",
    "    aux1 = np.matrix(aux[aux[\"school\"]==\"GP\"].iloc[:,1:])\n",
    "    aux2 = np.matrix(aux[aux[\"school\"]==\"MS\"].iloc[:,1:])\n",
    "    \n",
    "    N1_pos,F = Xt1_pos.shape\n",
    "    N1_neg,F = Xt1_neg.shape\n",
    "    \n",
    "    N2_pos,F = Xt2_pos.shape\n",
    "    N2_neg,F = Xt2_neg.shape\n",
    "    \n",
    "    K1 = aux1.shape[0]\n",
    "    K2 = aux2.shape[0]\n",
    "    \n",
    "    C1_pos = C_pos*np.ones(N1_pos)\n",
    "    C1_neg = C_neg*np.ones(N1_neg)\n",
    "    C2_pos = C_pos*np.ones(N2_pos)\n",
    "    C2_neg = C_pos*np.ones(N2_neg)\n",
    "    C1_aux_pos = C_pos*np.ones(K1)\n",
    "    C1_aux_neg = C_neg*np.ones(K1)\n",
    "    C2_aux_pos = C_pos*np.ones(K2)\n",
    "    C2_aux_neg = C_neg*np.ones(K2)\n",
    "    \n",
    "    M = 1000000\n",
    "    \n",
    "    w = cp.Variable(F)\n",
    "    b = cp.Variable()\n",
    "    w1 = cp.Variable(F)\n",
    "    d1 = cp.Variable()\n",
    "    w2 = cp.Variable(F)\n",
    "    d2 = cp.Variable()\n",
    "    \n",
    "    #below is slacks\n",
    "    e1_pos = cp.Variable(N1_pos)\n",
    "    e2_pos = cp.Variable(N2_pos)\n",
    "    e1_neg = cp.Variable(N1_neg)\n",
    "    e2_neg = cp.Variable(N2_neg)\n",
    "    \n",
    "    ##aux\n",
    "    xi1 = cp.Variable(K1)\n",
    "    xi2 = cp.Variable(K2)\n",
    "    z1 = cp.Variable(K1)\n",
    "    z2 = cp.Variable(K2)\n",
    "    \n",
    "    #binary for aux\n",
    "    d1_bi = np.ones(K1)\n",
    "    d2_bi = np.ones(K2)\n",
    "    \n",
    "    objective = cp.Minimize(0.5*cp.square(cp.norm(w))+\n",
    "                            0.5*gamma*(cp.square(cp.norm(w1))+\n",
    "                                       cp.square(cp.norm(w2))\n",
    "                                      )+\n",
    "                            cp.sum(cp.multiply(C1_pos,e1_pos))+\n",
    "                            cp.sum(cp.multiply(C1_neg,e1_neg))+\n",
    "                            cp.sum(cp.multiply(C2_pos,e2_pos))+\n",
    "                            cp.sum(cp.multiply(C2_neg,e2_neg))+\n",
    "                            cp.sum(cp.multiply(C1_aux_pos,xi1))+\n",
    "                            cp.sum(cp.multiply(C2_aux_pos,xi2))+\n",
    "                            cp.sum(cp.multiply(C1_aux_neg,z1))+\n",
    "                            cp.sum(cp.multiply(C2_aux_neg,z2))\n",
    "                           )\n",
    "                            \n",
    "    constraints=[cp.multiply(Yt1_pos.T,((Xt1_pos*w+b)+(Xt1_pos*w1+d1)))+e1_pos-1 >= 0,\n",
    "                 e1_pos>=0,\n",
    "                 cp.multiply(Yt1_neg.T,((Xt1_neg*w+b)+(Xt1_neg*w1+d1)))+e1_neg-1 >= 0,\n",
    "                 e1_neg>=0,\n",
    "                 cp.multiply(Yt2_pos.T,((Xt2_pos*w+b)+(Xt2_pos*w2+d2)))+e2_pos-1 >= 0,\n",
    "                 e2_pos>=0,\n",
    "                 cp.multiply(Yt2_neg.T,((Xt2_neg*w+b)+(Xt2_neg*w2+d2)))+e2_neg-1 >= 0,\n",
    "                 e2_neg>=0,\n",
    "                 ((aux1*w+b)+(aux1*w1+d1))+xi1+M*(1-d1_bi)-1>=0,\n",
    "                 ((aux1*w+b)+(aux1*w1+d1))+xi1+M*d1_bi-1>=0,\n",
    "                 xi1>=0,\n",
    "                 ((aux2*w+b)+(aux2*w2+d2))+xi2+M*(1-d2_bi)-1>=0,\n",
    "                 ((aux2*w+b)+(aux2*w2+d2))+xi2+M*d2_bi-1>=0,\n",
    "                 xi2>=0,\n",
    "                 -((aux1*w+b)+(aux1*w1+d1))+z1+M*d1_bi-1>=0,\n",
    "                 -((aux1*w+b)+(aux1*w1+d1))+z1+M*(1-d1_bi)-1>=0,\n",
    "                 z1>=0,\n",
    "                 -((aux2*w+b)+(aux2*w2+d2))+z2+M*d2_bi-1>=0,\n",
    "                 -((aux2*w+b)+(aux2*w2+d2))+z2+M*(1-d2_bi)-1>=0,\n",
    "                 z2>=0]\n",
    "    \n",
    "    prob = cp.Problem(objective,constraints)\n",
    "    \n",
    "    try:\n",
    "        results = prob.solve()\n",
    "    except:\n",
    "        try:\n",
    "            results = prob.solve(solver = \"ECOS_BB\")\n",
    "        except:\n",
    "            results = prob.solve(solver = \"SCS\")\n",
    "                            \n",
    "    return w.value,b.value,w1.value,w2.value,d1.value,d2.value"
   ]
  },
  {
   "cell_type": "markdown",
   "metadata": {},
   "source": [
    "## 3' Define Training Accuracy Function"
   ]
  },
  {
   "cell_type": "code",
   "execution_count": null,
   "metadata": {},
   "outputs": [],
   "source": [
    "def train_accuracy(w,b,w1,d1,w2,d2,train):\n",
    "    countin = 0\n",
    "    for i in range(0,train.shape[0]):\n",
    "        if train.iloc[i][0] == \"GP\":\n",
    "            if (sum(train.iloc[i][1:-1]*w)+b+sum(train.iloc[i][1:-1]*w1)+d1)*train.iloc[i][-1] >0:\n",
    "                countin += 1\n",
    "        elif train.iloc[i][0] == \"MS\":\n",
    "            if (sum(train.iloc[i][1:-1]*w)+b+sum(train.iloc[i][1:-1]*w2)+d2)*train.iloc[i][-1] >0:\n",
    "                countin += 1\n",
    "    return countin/train.shape[0]"
   ]
  },
  {
   "cell_type": "markdown",
   "metadata": {},
   "source": [
    "## 4' Select Parameters (C_pos,C_neg,gamma)"
   ]
  },
  {
   "cell_type": "code",
   "execution_count": null,
   "metadata": {
    "scrolled": true
   },
   "outputs": [],
   "source": [
    "def cmgc(C_1,C_2,g):\n",
    "    \n",
    "    train_result = []\n",
    "    w,b,w1,w2,d1,d2 = S3VMplus(train,aux,C_1,C_2,g)\n",
    "    \n",
    "    for i in range(0,train.shape[0]):\n",
    "        if train.iloc[i][0] == \"GP\" :\n",
    "            if (sum(train.iloc[i][1:-1]*w)+b+sum(train.iloc[i][1:-1]*w1)+d1) > 0 :\n",
    "                train_result.append(1)\n",
    "            else:\n",
    "                train_result.append(-1)\n",
    "        else:\n",
    "            if (sum(train.iloc[i][1:-1]*w)+b+sum(train.iloc[i][1:-1]*w2)+d2) > 0 :\n",
    "                train_result.append(1)\n",
    "            else:\n",
    "                train_result.append(-1)\n",
    "\n",
    "    return confusion_matrix(train[\"target\"],train_result)\n",
    "\n",
    "gamma_list = (0.1, 0.2, 0.5, 0.8,1, 2, 5, 10, 20, 30, 40, 50,100)\n",
    "\n",
    "diff_thre = 0.06\n",
    "lower_thre = 1.65\n",
    "#upper_thre = \n",
    "info = []\n",
    "candidates = []\n",
    "for gamma in gamma_list:\n",
    "    for C_p in 2**np.linspace(-8,8,17):\n",
    "        for C_n in 2**np.linspace(-8,8,17):\n",
    "            temp = cmgc(C_p,C_n,gamma)\n",
    "            acc_sum = temp[0,0]/sum(temp[0,:]) + temp[1,1]/sum(temp[1,:])\n",
    "            acc_diff = abs(temp[0,0]/sum(temp[0,:]) - temp[1,1]/sum(temp[1,:]))\n",
    "            info.append([C_p,C_n,gamma,acc_sum,acc_diff])\n",
    "            if acc_sum >lower_thre and acc_diff<diff_thre:\n",
    "                print(\"pos:\",C_p,\"neg:\",C_n,\"gamma:\",gamma,\"acc_sum:\",acc_sum,\"acc_diff:\",acc_diff)\n",
    "                candidates.append([C_p,C_n,gamma,acc_sum,acc_diff])\n",
    "pd.DataFrame(info).to_csv(\"info_S3VMplus.csv\")"
   ]
  },
  {
   "cell_type": "code",
   "execution_count": null,
   "metadata": {},
   "outputs": [],
   "source": [
    "#load in after save\n",
    "info = pd.DataFrame.from_csv(\"info_S3VMplus.csv\")\n",
    "info.iloc[:,3] = np.round(info.iloc[:,3],decimals = 2)\n",
    "info.iloc[:,4] = np.round(info.iloc[:,4],decimals = 2)\n",
    "reduced_info = info.drop_duplicates([\"3\",\"4\"])\n",
    "selected = reduced_info.loc[(reduced_info.iloc[:,3]>max(info.iloc[:,3])-0.1)&(reduced_info.iloc[:,4]<0.3),:]\n",
    "print(selected.shape)\n",
    "print(selected)"
   ]
  },
  {
   "cell_type": "code",
   "execution_count": null,
   "metadata": {},
   "outputs": [],
   "source": [
    "#table = pd.DataFrame(info)\n",
    "#candidates = table.loc[(table.iloc[:,3]>1.75)&(table.iloc[:,4]<0.05),:]"
   ]
  },
  {
   "cell_type": "markdown",
   "metadata": {},
   "source": [
    "## 5' Training Accuracy and Confusion  Matrix"
   ]
  },
  {
   "cell_type": "code",
   "execution_count": null,
   "metadata": {
    "scrolled": false
   },
   "outputs": [],
   "source": [
    "result_combo = []\n",
    "\n",
    "for j in np.arange(0,len(selected)):\n",
    "    \n",
    "    C_pos,C_neg,gamma = selected.iloc[j,0:3]\n",
    "    w,b,w1,w2,d1,d2 = S3VMplus(train,aux,C_pos,C_neg,gamma)\n",
    "    count = 0\n",
    "    result = []\n",
    "    \n",
    "    for i in range(0,train.shape[0]):\n",
    "        if train.iloc[i][0] == \"GP\" :\n",
    "            result.append(sum(train.iloc[i][1:-1]*w)+b+sum(train.iloc[i][1:-1]*w1)+d1)\n",
    "        else:\n",
    "            result.append(sum(train.iloc[i][1:-1]*w)+b+sum(train.iloc[i][1:-1]*w2)+d2)\n",
    "    \n",
    "    result = np.array(result)/abs(np.array(result))\n",
    "    result_combo.append(result)\n",
    "    print(j+1,\":training confusion matrix:\\n\",confusion_matrix(train[\"target\"],result))\n",
    "    print(\"%f\" % ((confusion_matrix(train[\"target\"],result)[0,0]+confusion_matrix(train[\"target\"],result)[1,1])/train.shape[0]),\"%\")\n",
    "\n",
    "voted = np.squeeze(np.asarray(sum(np.matrix(result_combo)/abs(np.matrix(result_combo)))))/abs(np.squeeze(np.asarray(sum(np.matrix(result_combo)/abs(np.matrix(result_combo))))))\n",
    "print(\"voted confusion matrix:\\n\",confusion_matrix(train[\"target\"],voted))\n",
    "print(\"%f\" % ((confusion_matrix(train[\"target\"],voted)[0,0]+confusion_matrix(train[\"target\"],voted)[1,1])/train.shape[0]),\"%\")\n",
    "print(\"-1:\",\"%f\" % (confusion_matrix(train[\"target\"],voted)[0,0]/sum(confusion_matrix(train[\"target\"],voted)[0,:])),\"%\")\n",
    "print(\"1:\",\"%f\" % (confusion_matrix(train[\"target\"],voted)[1,1]/sum(confusion_matrix(train[\"target\"],voted)[1,:])),\"%\")"
   ]
  },
  {
   "cell_type": "markdown",
   "metadata": {},
   "source": [
    "## Test Accuracy and Confusion Matrix"
   ]
  },
  {
   "cell_type": "code",
   "execution_count": null,
   "metadata": {},
   "outputs": [],
   "source": [
    "result_combo_test = []\n",
    "\n",
    "for j in np.arange(0,len(selected)):\n",
    "    \n",
    "    C_pos,C_neg,gamma = selected.iloc[j,0:3]\n",
    "    result = []\n",
    "    \n",
    "    for i in range(0,train.shape[0]):\n",
    "        X_test = train.iloc[i,0:-1]\n",
    "        w,b,w1,w2,d1,d2 = S3VMplus(train.drop(train.index[i]),aux,C_pos,C_neg,gamma)\n",
    "        if X_test[0] == \"GP\" :\n",
    "            result.append(sum(X_test[1:]*w)+b+sum(X_test[1:]*w1)+d1)\n",
    "        elif X_test[0] == \"MS\":\n",
    "            result.append(sum(X_test[1:]*w)+b+sum(X_test[1:]*w2)+d2)\n",
    "    \n",
    "    result = np.array(result)/abs(np.array(result))\n",
    "    result_combo_test.append(result)\n",
    "    print(j+1,\":test confusion matrix:\\n\",confusion_matrix(train[\"target\"],result))\n",
    "    print(\"%f\" % ((confusion_matrix(train[\"target\"],result)[0,0]+confusion_matrix(train[\"target\"],result)[1,1])/train.shape[0]),\"%\")\n",
    "\n",
    "voted_test = np.squeeze(np.asarray(sum(np.matrix(result_combo_test)/abs(np.matrix(result_combo_test)))))/abs(np.squeeze(np.asarray(sum(np.matrix(result_combo_test)/abs(np.matrix(result_combo_test))))))\n",
    "print(\"voted confusion matrix:\\n\",confusion_matrix(train[\"target\"],voted_test))\n",
    "print(\"%f\" % ((confusion_matrix(train[\"target\"],voted_test)[0,0]+confusion_matrix(train[\"target\"],voted_test)[1,1])/train.shape[0]),\"%\")\n",
    "print(\"-1:\",\"%f\" % (confusion_matrix(train[\"target\"],voted_test)[0,0]/sum(confusion_matrix(train[\"target\"],voted_test)[0,:])),\"%\")\n",
    "print(\"1:\",\"%f\" % (confusion_matrix(train[\"target\"],voted_test)[1,1]/sum(confusion_matrix(train[\"target\"],voted_test)[1,:])),\"%\")"
   ]
  }
 ],
 "metadata": {
  "kernelspec": {
   "display_name": "Python 3",
   "language": "python",
   "name": "python3"
  },
  "language_info": {
   "codemirror_mode": {
    "name": "ipython",
    "version": 3
   },
   "file_extension": ".py",
   "mimetype": "text/x-python",
   "name": "python",
   "nbconvert_exporter": "python",
   "pygments_lexer": "ipython3",
   "version": "3.7.3"
  }
 },
 "nbformat": 4,
 "nbformat_minor": 2
}
