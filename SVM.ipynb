{
 "cells": [
  {
   "cell_type": "code",
   "execution_count": null,
   "metadata": {
    "scrolled": true
   },
   "outputs": [],
   "source": [
    "import numpy as np\n",
    "import pandas as pd\n",
    "import cvxpy as cp\n",
    "import cvxopt\n",
    "from collections import Counter\n",
    "from sklearn.metrics import confusion_matrix"
   ]
  },
  {
   "cell_type": "markdown",
   "metadata": {},
   "source": [
    "## 1' Import Dataset"
   ]
  },
  {
   "cell_type": "code",
   "execution_count": null,
   "metadata": {
    "scrolled": true
   },
   "outputs": [],
   "source": [
    "train = pd.concat([pd.read_csv(\"X_labeled.csv\"), pd.read_csv(\"y_labeled.csv\")],1,names =None)\n",
    "train = train.drop(train.columns[[0,56]],1)\n",
    "\n",
    "print(train.shape)\n",
    "print(Counter(train[\"target\"]))\n",
    "print(Counter(train[\"school\"]))"
   ]
  },
  {
   "cell_type": "markdown",
   "metadata": {},
   "source": [
    "## 2' Define SVM"
   ]
  },
  {
   "cell_type": "code",
   "execution_count": null,
   "metadata": {},
   "outputs": [],
   "source": [
    "def SVM(train,C_pos,C_neg):\n",
    "    \n",
    "    train_pos = train[train[\"target\"]==1]\n",
    "    train_neg = train[train[\"target\"]==-1]\n",
    "    \n",
    "    C_pos = C_pos*np.ones(train_pos.shape[0])\n",
    "    C_neg = C_neg*np.ones(train_neg.shape[0])\n",
    "    \n",
    "    Yt_pos = train_pos.iloc[:,-1]  \n",
    "    Xt_pos = train_pos.iloc[:,1:-1] \n",
    "    \n",
    "    Yt_neg = train_neg.iloc[:,-1]  \n",
    "    Xt_neg = train_neg.iloc[:,1:-1]\n",
    "    \n",
    "    n_pos,F = Xt_pos.shape\n",
    "    n_neg,F = Xt_neg.shape\n",
    "    \n",
    "    Xt_pos = np.matrix(Xt_pos)\n",
    "    Yt_pos = np.array(Yt_pos)\n",
    "    Xt_neg = np.matrix(Xt_neg)\n",
    "    Yt_neg = np.array(Yt_neg)\n",
    "    \n",
    "    w = cp.Variable(F)\n",
    "    e_pos = cp.Variable(n_pos)\n",
    "    e_neg = cp.Variable(n_neg)\n",
    "    b = cp.Variable()\n",
    "    \n",
    "    objective = cp.Minimize(0.5*cp.square(cp.norm(w))+\n",
    "                            cp.sum(cp.multiply(C_pos,e_pos))+\n",
    "                            cp.sum(cp.multiply(C_neg,e_neg)))\n",
    "    \n",
    "    constraints =[cp.multiply(Yt_pos.T,Xt_pos*w+b) - 1 + e_pos >= 0,e_pos >= 0,\n",
    "                 cp.multiply(Yt_neg.T,Xt_neg*w+b) - 1 + e_neg >= 0,e_neg >= 0]\n",
    "   \n",
    "    prob = cp.Problem(objective,constraints)\n",
    "    \n",
    "    result = prob.solve()\n",
    "    \n",
    "    return w.value, b.value"
   ]
  },
  {
   "cell_type": "markdown",
   "metadata": {},
   "source": [
    "## 3' Select Best Parameter C"
   ]
  },
  {
   "cell_type": "code",
   "execution_count": null,
   "metadata": {},
   "outputs": [],
   "source": [
    "def train_accuracy(w,b,train):\n",
    "    countin = 0\n",
    "    result = (np.matmul(train.iloc[:,1:-1],w)+b)*train.iloc[:,-1]\n",
    "    for i in range(0,len(result)):\n",
    "        if result[i] > 0:\n",
    "            countin+=1\n",
    "    return countin/train.shape[0]\n",
    "\n",
    "def cmc(C_1,C_2):\n",
    "    train_result = []\n",
    "    w,b = SVM(train,C_1,C_2)\n",
    "    result = (np.matmul(train.iloc[:,1:-1],w)+b)\n",
    "    for i in range(0,len(result)):\n",
    "        if result[i] > 0:\n",
    "            train_result.append(1)\n",
    "        else:\n",
    "            train_result.append(-1)\n",
    "    return confusion_matrix(train[\"target\"],train_result)\n",
    "\n",
    "diff_thre = 0.06\n",
    "lower_thre = 1.75\n",
    "#upper_thre = \n",
    "info = []\n",
    "candidates = []\n",
    "for i in 2**np.linspace(-15,15,31):\n",
    "    for j in 2**np.linspace(-15,15,31):\n",
    "        temp = cmc(i,j)\n",
    "        acc_sum = temp[0,0]/sum(temp[0,:]) + temp[1,1]/sum(temp[1,:])\n",
    "        acc_diff = abs(temp[0,0]/sum(temp[0,:]) - temp[1,1]/sum(temp[1,:]))\n",
    "        info.append([i,j,acc_sum,acc_diff])\n",
    "        if acc_sum >lower_thre and acc_diff<diff_thre:\n",
    "            print(\"pos:\",i,\"neg:\",j,\"acc_sum:\",acc_sum,\"acc_diff:\",acc_diff)\n",
    "            candidates.append([i,j,acc_sum,acc_diff])\n",
    "pd.DataFrame(info).to_csv(\"SVM_info.csv\")"
   ]
  },
  {
   "cell_type": "code",
   "execution_count": null,
   "metadata": {},
   "outputs": [],
   "source": [
    "#load in after save\n",
    "info = pd.DataFrame.from_csv(\"SVM_info.csv\")\n",
    "#info.iloc[:,2] = np.round(info.iloc[:,2],decimals = 2)\n",
    "#info.iloc[:,3] = np.round(info.iloc[:,3],decimals = 2)\n",
    "#reduced_info = info.drop_duplicates([\"2\",\"3\"])\n",
    "#selected = reduced_info.loc[(reduced_info.iloc[:,2]==max(info.iloc[:,2]))&(reduced_info.iloc[:,3]<0.3),:]\n",
    "selected = info.loc[(info.iloc[:,2]==max(info.iloc[:,2]))&(info.iloc[:,3]<0.03),:]\n",
    "#selected = info.loc[(info.iloc[:,3]<0.03),:]\n",
    "print(selected.shape)\n",
    "print(selected)"
   ]
  },
  {
   "cell_type": "markdown",
   "metadata": {},
   "source": [
    "## 5' Training Accuracy & CM"
   ]
  },
  {
   "cell_type": "code",
   "execution_count": null,
   "metadata": {},
   "outputs": [],
   "source": [
    "result_combo = []\n",
    "for j in np.arange(0,len(selected)-1):\n",
    "    count = 0\n",
    "    C_pos,C_neg = selected.iloc[j,0:2]\n",
    "    w,b = SVM(train,C_pos,C_neg)\n",
    "    result = (np.matmul(train.iloc[:,1:-1],w)+b)/abs((np.matmul(train.iloc[:,1:-1],w)+b))\n",
    "    #result = (np.matmul(train.iloc[:,1:-1],w)+b)*train.iloc[:,-1]\n",
    "    result_combo.append(result)\n",
    "    print(j+1,\":training confusion matrix:\\n\",confusion_matrix(train[\"target\"],result))\n",
    "    print(\"%f\" % ((confusion_matrix(train[\"target\"],result)[0,0]+confusion_matrix(train[\"target\"],result)[1,1])/train.shape[0]),\"%\")\n",
    "\n",
    "voted = np.squeeze(np.asarray(sum(np.matrix(result_combo)/abs(np.matrix(result_combo)))))/abs(np.squeeze(np.asarray(sum(np.matrix(result_combo)/abs(np.matrix(result_combo))))))\n",
    "print(\"voted confusion matrix:\\n\",confusion_matrix(train[\"target\"],voted))\n",
    "print(\"%f\" % ((confusion_matrix(train[\"target\"],voted)[0,0]+confusion_matrix(train[\"target\"],voted)[1,1])/train.shape[0]),\"%\")\n",
    "print(\"-1:\",\"%f\" % (confusion_matrix(train[\"target\"],voted)[0,0]/sum(confusion_matrix(train[\"target\"],voted)[0,:])),\"%\")\n",
    "print(\"1:\",\"%f\" % (confusion_matrix(train[\"target\"],voted)[1,1]/sum(confusion_matrix(train[\"target\"],voted)[1,:])),\"%\")"
   ]
  },
  {
   "cell_type": "markdown",
   "metadata": {},
   "source": [
    "## 7' Test Accuracy LOOCV"
   ]
  },
  {
   "cell_type": "code",
   "execution_count": null,
   "metadata": {},
   "outputs": [],
   "source": [
    "result_combo_test = []\n",
    "for j in np.arange(0,len(selected)-1):\n",
    "    C_pos,C_neg = selected.iloc[j,0:2]\n",
    "    result = []\n",
    "    for i in range(0,train.shape[0]):\n",
    "        X_test = train.iloc[i,1:-1]\n",
    "        w,b = SVM(train.drop(train.index[i]),C_pos,C_neg)\n",
    "        result.append(sum(X_test*w)+b)\n",
    "    result = np.array(result)/abs(np.array(result))\n",
    "    result_combo_test.append(result)\n",
    "    print(j+1,\":test confusion matrix:\\n\",confusion_matrix(train[\"target\"],result))\n",
    "    print(\"%f\" % ((confusion_matrix(train[\"target\"],result)[0,0]+confusion_matrix(train[\"target\"],result)[1,1])/train.shape[0]),\"%\")\n",
    "voted_test = np.squeeze(np.asarray(sum(np.matrix(result_combo_test)/abs(np.matrix(result_combo_test)))))/abs(np.squeeze(np.asarray(sum(np.matrix(result_combo_test)/abs(np.matrix(result_combo_test))))))\n",
    "print(\"voted confusion matrix:\\n\",confusion_matrix(train[\"target\"],voted_test))\n",
    "print(\"%f\" % ((confusion_matrix(train[\"target\"],voted_test)[0,0]+confusion_matrix(train[\"target\"],voted_test)[1,1])/train.shape[0]),\"%\")\n",
    "print(\"-1:\",\"%f\" % (confusion_matrix(train[\"target\"],voted_test)[0,0]/sum(confusion_matrix(train[\"target\"],voted_test)[0,:])),\"%\")\n",
    "print(\"1:\",\"%f\" % (confusion_matrix(train[\"target\"],voted_test)[1,1]/sum(confusion_matrix(train[\"target\"],voted_test)[1,:])),\"%\")"
   ]
  }
 ],
 "metadata": {
  "kernelspec": {
   "display_name": "Python 3",
   "language": "python",
   "name": "python3"
  },
  "language_info": {
   "codemirror_mode": {
    "name": "ipython",
    "version": 3
   },
   "file_extension": ".py",
   "mimetype": "text/x-python",
   "name": "python",
   "nbconvert_exporter": "python",
   "pygments_lexer": "ipython3",
   "version": "3.7.3"
  }
 },
 "nbformat": 4,
 "nbformat_minor": 2
}
