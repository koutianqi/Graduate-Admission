{
 "cells": [
  {
   "cell_type": "code",
   "execution_count": 1,
   "metadata": {
    "scrolled": true
   },
   "outputs": [],
   "source": [
    "import numpy as np\n",
    "import pandas as pd\n",
    "import cvxpy as cp\n",
    "import cvxopt\n",
    "from collections import Counter\n",
    "from sklearn.metrics import confusion_matrix"
   ]
  },
  {
   "cell_type": "markdown",
   "metadata": {},
   "source": [
    "## 1' Import Dataset"
   ]
  },
  {
   "cell_type": "code",
   "execution_count": 2,
   "metadata": {
    "scrolled": true
   },
   "outputs": [
    {
     "name": "stdout",
     "output_type": "stream",
     "text": [
      "(196, 56)\n",
      "Counter({1: 118, -1: 78})\n",
      "Counter({'GP': 118, 'MS': 78})\n"
     ]
    }
   ],
   "source": [
    "train = pd.concat([pd.read_csv(\"X_labeled.csv\"), pd.read_csv(\"y_labeled.csv\")],1,names =None)\n",
    "train = train.drop(train.columns[[0,56]],1)\n",
    "\n",
    "print(train.shape)\n",
    "print(Counter(train[\"target\"]))\n",
    "print(Counter(train[\"school\"]))"
   ]
  },
  {
   "cell_type": "markdown",
   "metadata": {},
   "source": [
    "## 2' Define SVM"
   ]
  },
  {
   "cell_type": "code",
   "execution_count": 3,
   "metadata": {},
   "outputs": [],
   "source": [
    "def SVM(train,C_pos,C_neg):\n",
    "    \n",
    "    train_pos = train[train[\"target\"]==1]\n",
    "    train_neg = train[train[\"target\"]==-1]\n",
    "    \n",
    "    C_pos = C_pos*np.ones(train_pos.shape[0])\n",
    "    C_neg = C_neg*np.ones(train_neg.shape[0])\n",
    "    \n",
    "    Yt_pos = train_pos.iloc[:,-1]  \n",
    "    Xt_pos = train_pos.iloc[:,1:-1] \n",
    "    \n",
    "    Yt_neg = train_neg.iloc[:,-1]  \n",
    "    Xt_neg = train_neg.iloc[:,1:-1]\n",
    "    \n",
    "    n_pos,F = Xt_pos.shape\n",
    "    n_neg,F = Xt_neg.shape\n",
    "    \n",
    "    Xt_pos = np.matrix(Xt_pos)\n",
    "    Yt_pos = np.array(Yt_pos)\n",
    "    Xt_neg = np.matrix(Xt_neg)\n",
    "    Yt_neg = np.array(Yt_neg)\n",
    "    \n",
    "    w = cp.Variable(F)\n",
    "    e_pos = cp.Variable(n_pos)\n",
    "    e_neg = cp.Variable(n_neg)\n",
    "    b = cp.Variable()\n",
    "    \n",
    "    objective = cp.Minimize(0.5*cp.square(cp.norm(w))+\n",
    "                            cp.sum(cp.multiply(C_pos,e_pos))+\n",
    "                            cp.sum(cp.multiply(C_neg,e_neg)))\n",
    "    \n",
    "    constraints =[cp.multiply(Yt_pos.T,Xt_pos*w+b) - 1 + e_pos >= 0,e_pos >= 0,\n",
    "                 cp.multiply(Yt_neg.T,Xt_neg*w+b) - 1 + e_neg >= 0,e_neg >= 0]\n",
    "   \n",
    "    prob = cp.Problem(objective,constraints)\n",
    "    \n",
    "    result = prob.solve()\n",
    "    \n",
    "    return w.value, b.value"
   ]
  },
  {
   "cell_type": "markdown",
   "metadata": {},
   "source": [
    "## 3' Select Best Parameter C"
   ]
  },
  {
   "cell_type": "code",
   "execution_count": 4,
   "metadata": {},
   "outputs": [
    {
     "name": "stdout",
     "output_type": "stream",
     "text": [
      "pos: 0.00390625 neg: 0.0078125 acc_sum: 1.7913950456323338 acc_diff: 0.022164276401564598\n",
      "pos: 0.0078125 neg: 0.015625 acc_sum: 1.7913950456323338 acc_diff: 0.022164276401564598\n",
      "pos: 0.015625 neg: 0.03125 acc_sum: 1.8083441981747066 acc_diff: 0.039113428943937434\n",
      "pos: 0.03125 neg: 0.0625 acc_sum: 1.829639287266406 acc_diff: 0.034767492394610966\n",
      "pos: 0.0625 neg: 0.125 acc_sum: 1.8339852238157324 acc_diff: 0.013472403302911773\n",
      "pos: 0.125 neg: 0.25 acc_sum: 1.8552803129074316 acc_diff: 0.009126466753585305\n",
      "pos: 0.25 neg: 0.5 acc_sum: 1.859626249456758 acc_diff: 0.012168622338113888\n",
      "pos: 0.5 neg: 1.0 acc_sum: 1.8850499782703172 acc_diff: 0.013255106475445477\n",
      "pos: 1.0 neg: 1.0 acc_sum: 1.8891786179921772 acc_diff: 0.04302477183833109\n",
      "pos: 1.0 neg: 2.0 acc_sum: 1.8850499782703172 acc_diff: 0.013255106475445477\n",
      "pos: 2.0 neg: 2.0 acc_sum: 1.8891786179921772 acc_diff: 0.04302477183833109\n",
      "pos: 2.0 neg: 4.0 acc_sum: 1.9063450673620164 acc_diff: 0.00890916992611912\n",
      "pos: 4.0 neg: 4.0 acc_sum: 1.9104737070838764 acc_diff: 0.03867883528900473\n",
      "pos: 4.0 neg: 8.0 acc_sum: 1.89787049109083 acc_diff: 0.0004345936549327023\n",
      "pos: 8.0 neg: 8.0 acc_sum: 1.9104737070838764 acc_diff: 0.03867883528900473\n",
      "pos: 8.0 neg: 16.0 acc_sum: 1.9191655801825294 acc_diff: 0.003911342894393766\n",
      "pos: 16.0 neg: 16.0 acc_sum: 1.9232942199043892 acc_diff: 0.025858322468491957\n",
      "pos: 16.0 neg: 32.0 acc_sum: 1.9191655801825294 acc_diff: 0.003911342894393766\n",
      "pos: 32.0 neg: 32.0 acc_sum: 1.9232942199043892 acc_diff: 0.025858322468491957\n",
      "pos: 32.0 neg: 64.0 acc_sum: 1.9319860930030421 acc_diff: 0.01673185571490654\n",
      "pos: 32.0 neg: 128.0 acc_sum: 1.9491525423728815 acc_diff: 0.05084745762711862\n",
      "pos: 32.0 neg: 256.0 acc_sum: 1.9491525423728815 acc_diff: 0.05084745762711862\n",
      "pos: 32.0 neg: 512.0 acc_sum: 1.9491525423728815 acc_diff: 0.05084745762711862\n",
      "pos: 32.0 neg: 1024.0 acc_sum: 1.9491525423728815 acc_diff: 0.05084745762711862\n",
      "pos: 32.0 neg: 2048.0 acc_sum: 1.9491525423728815 acc_diff: 0.05084745762711862\n",
      "pos: 32.0 neg: 4096.0 acc_sum: 1.9491525423728815 acc_diff: 0.05084745762711862\n",
      "pos: 32.0 neg: 8192.0 acc_sum: 1.9491525423728815 acc_diff: 0.05084745762711862\n",
      "pos: 32.0 neg: 16384.0 acc_sum: 1.9491525423728815 acc_diff: 0.05084745762711862\n",
      "pos: 32.0 neg: 32768.0 acc_sum: 1.9491525423728815 acc_diff: 0.05084745762711862\n",
      "pos: 64.0 neg: 64.0 acc_sum: 1.9232942199043892 acc_diff: 0.025858322468491957\n",
      "pos: 64.0 neg: 128.0 acc_sum: 1.9235115167318557 acc_diff: 0.02520643198609296\n",
      "pos: 128.0 neg: 128.0 acc_sum: 1.9445893089960888 acc_diff: 0.0215123859191656\n",
      "pos: 128.0 neg: 256.0 acc_sum: 1.9404606692742286 acc_diff: 0.008257279443720122\n",
      "pos: 128.0 neg: 512.0 acc_sum: 1.957627118644068 acc_diff: 0.0423728813559322\n",
      "pos: 128.0 neg: 1024.0 acc_sum: 1.957627118644068 acc_diff: 0.0423728813559322\n",
      "pos: 128.0 neg: 2048.0 acc_sum: 1.957627118644068 acc_diff: 0.0423728813559322\n",
      "pos: 128.0 neg: 4096.0 acc_sum: 1.957627118644068 acc_diff: 0.0423728813559322\n",
      "pos: 128.0 neg: 8192.0 acc_sum: 1.957627118644068 acc_diff: 0.0423728813559322\n",
      "pos: 128.0 neg: 16384.0 acc_sum: 1.957627118644068 acc_diff: 0.0423728813559322\n",
      "pos: 128.0 neg: 32768.0 acc_sum: 1.957627118644068 acc_diff: 0.0423728813559322\n",
      "pos: 256.0 neg: 256.0 acc_sum: 1.9445893089960888 acc_diff: 0.0215123859191656\n",
      "pos: 256.0 neg: 512.0 acc_sum: 1.9404606692742286 acc_diff: 0.008257279443720122\n",
      "pos: 256.0 neg: 1024.0 acc_sum: 1.940677966101695 acc_diff: 0.05932203389830504\n",
      "pos: 256.0 neg: 2048.0 acc_sum: 1.940677966101695 acc_diff: 0.05932203389830504\n",
      "pos: 256.0 neg: 4096.0 acc_sum: 1.940677966101695 acc_diff: 0.05932203389830504\n",
      "pos: 256.0 neg: 8192.0 acc_sum: 1.940677966101695 acc_diff: 0.05932203389830504\n",
      "pos: 256.0 neg: 16384.0 acc_sum: 1.940677966101695 acc_diff: 0.05932203389830504\n",
      "pos: 256.0 neg: 32768.0 acc_sum: 1.940677966101695 acc_diff: 0.05932203389830504\n",
      "pos: 512.0 neg: 256.0 acc_sum: 1.9487179487179487 acc_diff: 0.05128205128205132\n",
      "pos: 512.0 neg: 512.0 acc_sum: 1.9445893089960888 acc_diff: 0.0215123859191656\n",
      "pos: 512.0 neg: 1024.0 acc_sum: 1.9404606692742286 acc_diff: 0.008257279443720122\n",
      "pos: 512.0 neg: 2048.0 acc_sum: 1.9491525423728815 acc_diff: 0.05084745762711862\n",
      "pos: 512.0 neg: 4096.0 acc_sum: 1.9491525423728815 acc_diff: 0.05084745762711862\n",
      "pos: 512.0 neg: 8192.0 acc_sum: 1.9491525423728815 acc_diff: 0.05084745762711862\n",
      "pos: 512.0 neg: 16384.0 acc_sum: 1.9491525423728815 acc_diff: 0.05084745762711862\n",
      "pos: 512.0 neg: 32768.0 acc_sum: 1.9491525423728815 acc_diff: 0.05084745762711862\n",
      "pos: 1024.0 neg: 256.0 acc_sum: 1.9487179487179487 acc_diff: 0.05128205128205132\n",
      "pos: 1024.0 neg: 512.0 acc_sum: 1.9487179487179487 acc_diff: 0.05128205128205132\n",
      "pos: 1024.0 neg: 1024.0 acc_sum: 1.9487179487179487 acc_diff: 0.05128205128205132\n",
      "pos: 1024.0 neg: 2048.0 acc_sum: 1.9448066058235551 acc_diff: 0.029552368535419427\n",
      "pos: 1024.0 neg: 4096.0 acc_sum: 1.9745762711864407 acc_diff: 0.025423728813559365\n",
      "pos: 1024.0 neg: 8192.0 acc_sum: 1.9745762711864407 acc_diff: 0.025423728813559365\n",
      "pos: 1024.0 neg: 16384.0 acc_sum: 1.9745762711864407 acc_diff: 0.025423728813559365\n",
      "pos: 1024.0 neg: 32768.0 acc_sum: 1.9745762711864407 acc_diff: 0.025423728813559365\n",
      "pos: 2048.0 neg: 256.0 acc_sum: 1.9487179487179487 acc_diff: 0.05128205128205132\n",
      "pos: 2048.0 neg: 512.0 acc_sum: 1.9487179487179487 acc_diff: 0.05128205128205132\n",
      "pos: 2048.0 neg: 1024.0 acc_sum: 1.9487179487179487 acc_diff: 0.05128205128205132\n",
      "pos: 2048.0 neg: 2048.0 acc_sum: 1.9487179487179487 acc_diff: 0.05128205128205132\n",
      "pos: 2048.0 neg: 4096.0 acc_sum: 1.9448066058235551 acc_diff: 0.029552368535419427\n",
      "pos: 2048.0 neg: 8192.0 acc_sum: 1.9745762711864407 acc_diff: 0.025423728813559365\n",
      "pos: 2048.0 neg: 16384.0 acc_sum: 1.9745762711864407 acc_diff: 0.025423728813559365\n",
      "pos: 2048.0 neg: 32768.0 acc_sum: 1.9745762711864407 acc_diff: 0.025423728813559365\n",
      "pos: 4096.0 neg: 256.0 acc_sum: 1.9487179487179487 acc_diff: 0.05128205128205132\n",
      "pos: 4096.0 neg: 512.0 acc_sum: 1.9487179487179487 acc_diff: 0.05128205128205132\n",
      "pos: 4096.0 neg: 1024.0 acc_sum: 1.9487179487179487 acc_diff: 0.05128205128205132\n",
      "pos: 4096.0 neg: 2048.0 acc_sum: 1.9487179487179487 acc_diff: 0.05128205128205132\n",
      "pos: 4096.0 neg: 4096.0 acc_sum: 1.9487179487179487 acc_diff: 0.05128205128205132\n",
      "pos: 4096.0 neg: 8192.0 acc_sum: 1.9532811820947416 acc_diff: 0.02107779226423301\n",
      "pos: 4096.0 neg: 16384.0 acc_sum: 1.9745762711864407 acc_diff: 0.025423728813559365\n",
      "pos: 4096.0 neg: 32768.0 acc_sum: 1.9745762711864407 acc_diff: 0.025423728813559365\n",
      "pos: 8192.0 neg: 256.0 acc_sum: 1.9487179487179487 acc_diff: 0.05128205128205132\n",
      "pos: 8192.0 neg: 512.0 acc_sum: 1.9487179487179487 acc_diff: 0.05128205128205132\n",
      "pos: 8192.0 neg: 1024.0 acc_sum: 1.9487179487179487 acc_diff: 0.05128205128205132\n",
      "pos: 8192.0 neg: 2048.0 acc_sum: 1.9487179487179487 acc_diff: 0.05128205128205132\n",
      "pos: 8192.0 neg: 4096.0 acc_sum: 1.9487179487179487 acc_diff: 0.05128205128205132\n",
      "pos: 8192.0 neg: 8192.0 acc_sum: 1.9487179487179487 acc_diff: 0.05128205128205132\n",
      "pos: 8192.0 neg: 16384.0 acc_sum: 1.9661016949152543 acc_diff: 0.03389830508474578\n",
      "pos: 8192.0 neg: 32768.0 acc_sum: 1.9745762711864407 acc_diff: 0.025423728813559365\n",
      "pos: 16384.0 neg: 256.0 acc_sum: 1.9487179487179487 acc_diff: 0.05128205128205132\n",
      "pos: 16384.0 neg: 512.0 acc_sum: 1.9487179487179487 acc_diff: 0.05128205128205132\n",
      "pos: 16384.0 neg: 1024.0 acc_sum: 1.9487179487179487 acc_diff: 0.05128205128205132\n",
      "pos: 16384.0 neg: 2048.0 acc_sum: 1.9487179487179487 acc_diff: 0.05128205128205132\n",
      "pos: 16384.0 neg: 4096.0 acc_sum: 1.9487179487179487 acc_diff: 0.05128205128205132\n",
      "pos: 16384.0 neg: 8192.0 acc_sum: 1.9487179487179487 acc_diff: 0.05128205128205132\n",
      "pos: 16384.0 neg: 16384.0 acc_sum: 1.9487179487179487 acc_diff: 0.05128205128205132\n",
      "pos: 16384.0 neg: 32768.0 acc_sum: 1.9661016949152543 acc_diff: 0.03389830508474578\n",
      "pos: 32768.0 neg: 256.0 acc_sum: 1.9487179487179487 acc_diff: 0.05128205128205132\n",
      "pos: 32768.0 neg: 512.0 acc_sum: 1.9487179487179487 acc_diff: 0.05128205128205132\n",
      "pos: 32768.0 neg: 1024.0 acc_sum: 1.9487179487179487 acc_diff: 0.05128205128205132\n",
      "pos: 32768.0 neg: 2048.0 acc_sum: 1.9487179487179487 acc_diff: 0.05128205128205132\n",
      "pos: 32768.0 neg: 4096.0 acc_sum: 1.9487179487179487 acc_diff: 0.05128205128205132\n",
      "pos: 32768.0 neg: 8192.0 acc_sum: 1.9487179487179487 acc_diff: 0.05128205128205132\n",
      "pos: 32768.0 neg: 16384.0 acc_sum: 1.9487179487179487 acc_diff: 0.05128205128205132\n",
      "pos: 32768.0 neg: 32768.0 acc_sum: 1.9487179487179487 acc_diff: 0.05128205128205132\n"
     ]
    }
   ],
   "source": [
    "def train_accuracy(w,b,train):\n",
    "    countin = 0\n",
    "    result = (np.matmul(train.iloc[:,1:-1],w)+b)*train.iloc[:,-1]\n",
    "    for i in range(0,len(result)):\n",
    "        if result[i] > 0:\n",
    "            countin+=1\n",
    "    return countin/train.shape[0]\n",
    "\n",
    "def cmc(C_1,C_2):\n",
    "    train_result = []\n",
    "    w,b = SVM(train,C_1,C_2)\n",
    "    result = (np.matmul(train.iloc[:,1:-1],w)+b)\n",
    "    for i in range(0,len(result)):\n",
    "        if result[i] > 0:\n",
    "            train_result.append(1)\n",
    "        else:\n",
    "            train_result.append(-1)\n",
    "    return confusion_matrix(train[\"target\"],train_result)\n",
    "\n",
    "diff_thre = 0.06\n",
    "lower_thre = 1.75\n",
    "#upper_thre = \n",
    "info = []\n",
    "candidates = []\n",
    "for i in 2**np.linspace(-15,15,31):\n",
    "    for j in 2**np.linspace(-15,15,31):\n",
    "        temp = cmc(i,j)\n",
    "        acc_sum = temp[0,0]/sum(temp[0,:]) + temp[1,1]/sum(temp[1,:])\n",
    "        acc_diff = abs(temp[0,0]/sum(temp[0,:]) - temp[1,1]/sum(temp[1,:]))\n",
    "        info.append([i,j,acc_sum,acc_diff])\n",
    "        if acc_sum >lower_thre and acc_diff<diff_thre:\n",
    "            print(\"pos:\",i,\"neg:\",j,\"acc_sum:\",acc_sum,\"acc_diff:\",acc_diff)\n",
    "            candidates.append([i,j,acc_sum,acc_diff])\n",
    "pd.DataFrame(info).to_csv(\"SVM_info.csv\")"
   ]
  },
  {
   "cell_type": "code",
   "execution_count": 13,
   "metadata": {},
   "outputs": [
    {
     "name": "stdout",
     "output_type": "stream",
     "text": [
      "(10, 4)\n",
      "          0        1         2         3\n",
      "802  1024.0   4096.0  1.974576  0.025424\n",
      "803  1024.0   8192.0  1.974576  0.025424\n",
      "804  1024.0  16384.0  1.974576  0.025424\n",
      "805  1024.0  32768.0  1.974576  0.025424\n",
      "834  2048.0   8192.0  1.974576  0.025424\n",
      "835  2048.0  16384.0  1.974576  0.025424\n",
      "836  2048.0  32768.0  1.974576  0.025424\n",
      "866  4096.0  16384.0  1.974576  0.025424\n",
      "867  4096.0  32768.0  1.974576  0.025424\n",
      "898  8192.0  32768.0  1.974576  0.025424\n"
     ]
    },
    {
     "name": "stderr",
     "output_type": "stream",
     "text": [
      "C:\\Users\\KOU TIANQI\\Anaconda3\\lib\\site-packages\\ipykernel_launcher.py:2: FutureWarning: from_csv is deprecated. Please use read_csv(...) instead. Note that some of the default arguments are different, so please refer to the documentation for from_csv when changing your function calls\n",
      "  \n"
     ]
    }
   ],
   "source": [
    "#load in after save\n",
    "info = pd.DataFrame.from_csv(\"SVM_info.csv\")\n",
    "#info.iloc[:,2] = np.round(info.iloc[:,2],decimals = 2)\n",
    "#info.iloc[:,3] = np.round(info.iloc[:,3],decimals = 2)\n",
    "#reduced_info = info.drop_duplicates([\"2\",\"3\"])\n",
    "#selected = reduced_info.loc[(reduced_info.iloc[:,2]==max(info.iloc[:,2]))&(reduced_info.iloc[:,3]<0.3),:]\n",
    "selected = info.loc[(info.iloc[:,2]==max(info.iloc[:,2]))&(info.iloc[:,3]<0.03),:]\n",
    "#selected = info.loc[(info.iloc[:,3]<0.03),:]\n",
    "print(selected.shape)\n",
    "print(selected)"
   ]
  },
  {
   "cell_type": "markdown",
   "metadata": {},
   "source": [
    "## 5' Training Accuracy & CM"
   ]
  },
  {
   "cell_type": "code",
   "execution_count": 14,
   "metadata": {},
   "outputs": [
    {
     "name": "stdout",
     "output_type": "stream",
     "text": [
      "1 :training confusion matrix:\n",
      " [[ 78   0]\n",
      " [  3 115]]\n",
      "0.984694 %\n",
      "2 :training confusion matrix:\n",
      " [[ 78   0]\n",
      " [  3 115]]\n",
      "0.984694 %\n",
      "3 :training confusion matrix:\n",
      " [[ 78   0]\n",
      " [  3 115]]\n",
      "0.984694 %\n",
      "4 :training confusion matrix:\n",
      " [[ 78   0]\n",
      " [  3 115]]\n",
      "0.984694 %\n",
      "5 :training confusion matrix:\n",
      " [[ 78   0]\n",
      " [  3 115]]\n",
      "0.984694 %\n",
      "6 :training confusion matrix:\n",
      " [[ 78   0]\n",
      " [  3 115]]\n",
      "0.984694 %\n",
      "7 :training confusion matrix:\n",
      " [[ 78   0]\n",
      " [  3 115]]\n",
      "0.984694 %\n",
      "8 :training confusion matrix:\n",
      " [[ 78   0]\n",
      " [  3 115]]\n",
      "0.984694 %\n",
      "9 :training confusion matrix:\n",
      " [[ 78   0]\n",
      " [  3 115]]\n",
      "0.984694 %\n",
      "voted confusion matrix:\n",
      " [[ 78   0]\n",
      " [  3 115]]\n",
      "0.984694 %\n",
      "-1: 1.000000 %\n",
      "1: 0.974576 %\n"
     ]
    }
   ],
   "source": [
    "result_combo = []\n",
    "for j in np.arange(0,len(selected)-1):\n",
    "    count = 0\n",
    "    C_pos,C_neg = selected.iloc[j,0:2]\n",
    "    w,b = SVM(train,C_pos,C_neg)\n",
    "    result = (np.matmul(train.iloc[:,1:-1],w)+b)/abs((np.matmul(train.iloc[:,1:-1],w)+b))\n",
    "    #result = (np.matmul(train.iloc[:,1:-1],w)+b)*train.iloc[:,-1]\n",
    "    result_combo.append(result)\n",
    "    print(j+1,\":training confusion matrix:\\n\",confusion_matrix(train[\"target\"],result))\n",
    "    print(\"%f\" % ((confusion_matrix(train[\"target\"],result)[0,0]+confusion_matrix(train[\"target\"],result)[1,1])/train.shape[0]),\"%\")\n",
    "\n",
    "voted = np.squeeze(np.asarray(sum(np.matrix(result_combo)/abs(np.matrix(result_combo)))))/abs(np.squeeze(np.asarray(sum(np.matrix(result_combo)/abs(np.matrix(result_combo))))))\n",
    "print(\"voted confusion matrix:\\n\",confusion_matrix(train[\"target\"],voted))\n",
    "print(\"%f\" % ((confusion_matrix(train[\"target\"],voted)[0,0]+confusion_matrix(train[\"target\"],voted)[1,1])/train.shape[0]),\"%\")\n",
    "print(\"-1:\",\"%f\" % (confusion_matrix(train[\"target\"],voted)[0,0]/sum(confusion_matrix(train[\"target\"],voted)[0,:])),\"%\")\n",
    "print(\"1:\",\"%f\" % (confusion_matrix(train[\"target\"],voted)[1,1]/sum(confusion_matrix(train[\"target\"],voted)[1,:])),\"%\")"
   ]
  },
  {
   "cell_type": "markdown",
   "metadata": {},
   "source": [
    "## 7' Test Accuracy LOOCV"
   ]
  },
  {
   "cell_type": "code",
   "execution_count": 15,
   "metadata": {},
   "outputs": [
    {
     "name": "stdout",
     "output_type": "stream",
     "text": [
      "1 :test confusion matrix:\n",
      " [[60 18]\n",
      " [22 96]]\n",
      "0.795918 %\n",
      "2 :test confusion matrix:\n",
      " [[60 18]\n",
      " [22 96]]\n",
      "0.795918 %\n",
      "3 :test confusion matrix:\n",
      " [[60 18]\n",
      " [22 96]]\n",
      "0.795918 %\n",
      "4 :test confusion matrix:\n",
      " [[60 18]\n",
      " [22 96]]\n",
      "0.795918 %\n",
      "5 :test confusion matrix:\n",
      " [[61 17]\n",
      " [22 96]]\n",
      "0.801020 %\n",
      "6 :test confusion matrix:\n",
      " [[61 17]\n",
      " [22 96]]\n",
      "0.801020 %\n",
      "7 :test confusion matrix:\n",
      " [[61 17]\n",
      " [22 96]]\n",
      "0.801020 %\n",
      "8 :test confusion matrix:\n",
      " [[61 17]\n",
      " [23 95]]\n",
      "0.795918 %\n",
      "9 :test confusion matrix:\n",
      " [[61 17]\n",
      " [23 95]]\n",
      "0.795918 %\n",
      "voted confusion matrix:\n",
      " [[61 17]\n",
      " [23 95]]\n",
      "0.795918 %\n",
      "-1: 0.782051 %\n",
      "1: 0.805085 %\n"
     ]
    }
   ],
   "source": [
    "result_combo_test = []\n",
    "for j in np.arange(0,len(selected)-1):\n",
    "    C_pos,C_neg = selected.iloc[j,0:2]\n",
    "    result = []\n",
    "    for i in range(0,train.shape[0]):\n",
    "        X_test = train.iloc[i,1:-1]\n",
    "        w,b = SVM(train.drop(train.index[i]),C_pos,C_neg)\n",
    "        result.append(sum(X_test*w)+b)\n",
    "    result = np.array(result)/abs(np.array(result))\n",
    "    result_combo_test.append(result)\n",
    "    print(j+1,\":test confusion matrix:\\n\",confusion_matrix(train[\"target\"],result))\n",
    "    print(\"%f\" % ((confusion_matrix(train[\"target\"],result)[0,0]+confusion_matrix(train[\"target\"],result)[1,1])/train.shape[0]),\"%\")\n",
    "voted_test = np.squeeze(np.asarray(sum(np.matrix(result_combo_test)/abs(np.matrix(result_combo_test)))))/abs(np.squeeze(np.asarray(sum(np.matrix(result_combo_test)/abs(np.matrix(result_combo_test))))))\n",
    "print(\"voted confusion matrix:\\n\",confusion_matrix(train[\"target\"],voted_test))\n",
    "print(\"%f\" % ((confusion_matrix(train[\"target\"],voted_test)[0,0]+confusion_matrix(train[\"target\"],voted_test)[1,1])/train.shape[0]),\"%\")\n",
    "print(\"-1:\",\"%f\" % (confusion_matrix(train[\"target\"],voted_test)[0,0]/sum(confusion_matrix(train[\"target\"],voted_test)[0,:])),\"%\")\n",
    "print(\"1:\",\"%f\" % (confusion_matrix(train[\"target\"],voted_test)[1,1]/sum(confusion_matrix(train[\"target\"],voted_test)[1,:])),\"%\")"
   ]
  }
 ],
 "metadata": {
  "kernelspec": {
   "display_name": "Python 3",
   "language": "python",
   "name": "python3"
  },
  "language_info": {
   "codemirror_mode": {
    "name": "ipython",
    "version": 3
   },
   "file_extension": ".py",
   "mimetype": "text/x-python",
   "name": "python",
   "nbconvert_exporter": "python",
   "pygments_lexer": "ipython3",
   "version": "3.7.3"
  }
 },
 "nbformat": 4,
 "nbformat_minor": 2
}
