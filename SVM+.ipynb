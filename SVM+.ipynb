{
 "cells": [
  {
   "cell_type": "code",
   "execution_count": null,
   "metadata": {},
   "outputs": [],
   "source": [
    "import numpy as np, pandas as pd, cvxpy as cp, cvxopt\n",
    "from collections import Counter\n",
    "from sklearn.metrics import confusion_matrix"
   ]
  },
  {
   "cell_type": "markdown",
   "metadata": {},
   "source": [
    "## 1' import data "
   ]
  },
  {
   "cell_type": "code",
   "execution_count": null,
   "metadata": {},
   "outputs": [],
   "source": [
    "train = pd.concat([pd.read_csv(\"X_labeled.csv\"), pd.read_csv(\"y_labeled.csv\")],1,names =None)\n",
    "train = train.drop(train.columns[0],1)\n",
    "print(Counter(train[\"target\"]))\n",
    "#train[(train[\"target\"]==1) & (train[\"school\"]==\"GP\")].iloc[:,1:-1]"
   ]
  },
  {
   "cell_type": "markdown",
   "metadata": {},
   "source": [
    "## 2' Define SVM+ Function"
   ]
  },
  {
   "cell_type": "code",
   "execution_count": null,
   "metadata": {},
   "outputs": [],
   "source": [
    "def SVMplus(train,C_pos,C_neg,gamma):\n",
    "    \n",
    "    F = train.shape[1]\n",
    "    \n",
    "    Xt1_pos = np.matrix(train[(train[\"target\"]==1) & (train[\"school\"]==\"GP\")].iloc[:,1:-1])\n",
    "    Yt1_pos = np.array(train[(train[\"target\"]==1) & (train[\"school\"]==\"GP\")].iloc[:,-1])\n",
    "    \n",
    "    Xt1_neg = np.matrix(train[(train[\"target\"]==-1) & (train[\"school\"]==\"GP\")].iloc[:,1:-1])\n",
    "    Yt1_neg = np.array(train[(train[\"target\"]==-1) & (train[\"school\"]==\"GP\")].iloc[:,-1])\n",
    "    \n",
    "    Xt2_pos = np.matrix(train[(train[\"target\"]==1) & (train[\"school\"]==\"MS\")].iloc[:,1:-1])\n",
    "    Yt2_pos = np.array(train[(train[\"target\"]==1) & (train[\"school\"]==\"MS\")].iloc[:,-1])\n",
    "    \n",
    "    Xt2_neg = np.matrix(train[(train[\"target\"]==-1) & (train[\"school\"]==\"MS\")].iloc[:,1:-1])\n",
    "    Yt2_neg = np.array(train[(train[\"target\"]==-1) & (train[\"school\"]==\"MS\")].iloc[:,-1])\n",
    "    \n",
    "    K1_pos = Xt1_pos.shape[0]\n",
    "    K1_neg = Xt1_neg.shape[0]\n",
    "    \n",
    "    K2_pos = Xt2_pos.shape[0]\n",
    "    K2_neg = Xt2_neg.shape[0]\n",
    "    \n",
    "    C1_pos = C_pos*np.ones(K1_pos)\n",
    "    C1_neg = C_neg*np.ones(K1_neg)\n",
    "    C2_pos = C_pos*np.ones(K2_pos)\n",
    "    C2_neg = C_neg*np.ones(K2_neg)\n",
    "    \n",
    "    w = cp.Variable(F-2)\n",
    "    b = cp.Variable()\n",
    "    w1 = cp.Variable(F-2)\n",
    "    w2 = cp.Variable(F-2)\n",
    "    d1 = cp.Variable()\n",
    "    d2 = cp.Variable()\n",
    "    \n",
    "    objective = cp.Minimize(0.5*cp.square(cp.norm(w))+\n",
    "                            0.5*gamma*(cp.square(cp.norm(w1))+cp.square(cp.norm(w2)))+\n",
    "                            cp.sum(cp.multiply(C1_pos,Xt1_pos*w1+d1))+\n",
    "                            cp.sum(cp.multiply(C1_neg,Xt1_neg*w1+d1))+\n",
    "                            cp.sum(cp.multiply(C2_pos,Xt2_pos*w2+d2))+\n",
    "                            cp.sum(cp.multiply(C2_neg,Xt2_neg*w2+d2))\n",
    "                           )\n",
    "    \n",
    "    constraints = [cp.multiply(Yt1_pos.T,((Xt1_pos*w+b)+(Xt1_pos*w1+d1)))+(Xt1_pos*w1+d1)-1>=0,\n",
    "                  (Xt1_pos*w1+d1) >= 0,\n",
    "                   cp.multiply(Yt1_neg.T,((Xt1_neg*w+b)+(Xt1_neg*w1+d1)))+(Xt1_neg*w1+d1)-1>=0,\n",
    "                  (Xt1_neg*w1+d1) >= 0,\n",
    "                  cp.multiply(Yt2_pos.T,((Xt2_pos*w+b)+(Xt2_pos*w2+d2)))+(Xt2_pos*w2+d2)-1>=0,\n",
    "                  (Xt2_pos*w2+d2) >= 0,\n",
    "                  cp.multiply(Yt2_neg.T,((Xt2_neg*w+b)+(Xt2_neg*w2+d2)))+(Xt2_neg*w2+d2)-1>=0,\n",
    "                  (Xt2_neg*w2+d2) >= 0]\n",
    "    \n",
    "    prob = cp.Problem(objective,constraints)\n",
    "    \n",
    "    try:\n",
    "        results = prob.solve()\n",
    "    except:\n",
    "        results = prob.solve(solver = \"ECOS_BB\")\n",
    "        \n",
    "    return w.value,b.value,w1.value,w2.value,d1.value,d2.value"
   ]
  },
  {
   "cell_type": "markdown",
   "metadata": {},
   "source": [
    "## 3' Define Training Acc Function"
   ]
  },
  {
   "cell_type": "code",
   "execution_count": null,
   "metadata": {},
   "outputs": [],
   "source": [
    "def train_accuracy(w,b,w1,d1,w2,d2,train):\n",
    "    countin = 0\n",
    "    for i in range(0,train.shape[0]):\n",
    "        if train.iloc[i][0] == \"GP\":\n",
    "            if (sum(train.iloc[i][1:-1]*w)+b+sum(train.iloc[i][1:-1]*w1)+d1)*train.iloc[i][-1] >0:\n",
    "                countin += 1\n",
    "        elif train.iloc[i][0] == \"MS\":\n",
    "            if (sum(train.iloc[i][1:-1]*w)+b+sum(train.iloc[i][1:-1]*w2)+d2)*train.iloc[i][-1] >0:\n",
    "                countin += 1\n",
    "    return countin/train.shape[0]"
   ]
  },
  {
   "cell_type": "markdown",
   "metadata": {},
   "source": [
    "## 4' Selecting Best Parameters(C_pos,C_neg,gamma)"
   ]
  },
  {
   "cell_type": "code",
   "execution_count": null,
   "metadata": {},
   "outputs": [],
   "source": [
    "def cmgc(C_1,C_2,g):\n",
    "    \n",
    "    train_result = []\n",
    "    w,b,w1,w2,d1,d2 = SVMplus(train,C_1,C_2,g)\n",
    "    \n",
    "    for i in range(0,train.shape[0]):\n",
    "        if train.iloc[i][0] == \"GP\" :\n",
    "            if (sum(train.iloc[i][1:-1]*w)+b+sum(train.iloc[i][1:-1]*w1)+d1) > 0 :\n",
    "                train_result.append(1)\n",
    "            else:\n",
    "                train_result.append(-1)\n",
    "        else:\n",
    "            if (sum(train.iloc[i][1:-1]*w)+b+sum(train.iloc[i][1:-1]*w2)+d2) > 0 :\n",
    "                train_result.append(1)\n",
    "            else:\n",
    "                train_result.append(-1)\n",
    "\n",
    "    return confusion_matrix(train[\"target\"],train_result)\n",
    "\n",
    "\n",
    "gamma_list = (0.1,0.2,0.5,0.8,1,2,5,10,20,30,40,50,100)\n",
    "\n",
    "diff_thre = 0.06\n",
    "lower_thre = 1.72\n",
    "#upper_thre = \n",
    "info = []\n",
    "candidates = []\n",
    "for gamma in gamma_list:\n",
    "    for C_p in 2**np.linspace(-15,15,31):\n",
    "        for C_n in 2**np.linspace(-15,15,31):\n",
    "            temp = cmgc(C_p,C_n,gamma)\n",
    "            acc_sum = temp[0,0]/sum(temp[0,:]) + temp[1,1]/sum(temp[1,:])\n",
    "            acc_diff = abs(temp[0,0]/sum(temp[0,:]) - temp[1,1]/sum(temp[1,:]))\n",
    "            info.append([C_p,C_n,gamma,acc_sum,acc_diff])\n",
    "            if acc_sum >lower_thre and acc_diff<diff_thre:\n",
    "                print(\"pos:\",C_p,\"neg:\",C_n,\"gamma:\",gamma,\"acc_sum:\",acc_sum,\"acc_diff:\",acc_diff)\n",
    "                candidates.append([C_p,C_n,gamma,acc_sum,acc_diff])\n",
    "pd.DataFrame(info).to_csv(\"info_SVMplus.csv\")"
   ]
  },
  {
   "cell_type": "code",
   "execution_count": null,
   "metadata": {},
   "outputs": [],
   "source": [
    "#load in after save\n",
    "info = pd.DataFrame.from_csv(\"info_SVMplus.csv\")\n",
    "#info.iloc[:,3] = np.round(info.iloc[:,3],decimals = 2)\n",
    "#info.iloc[:,4] = np.round(info.iloc[:,4],decimals = 2)\n",
    "reduced_info = info.drop_duplicates([\"3\",\"4\"])\n",
    "selected = reduced_info.loc[(reduced_info.iloc[:,3]>max(info.iloc[:,3])-0.6)&(reduced_info.iloc[:,4]<0.06),:]\n",
    "print(selected.shape)\n",
    "print(selected)"
   ]
  },
  {
   "cell_type": "markdown",
   "metadata": {},
   "source": [
    "## Training Accuracy and Confusion Matrix"
   ]
  },
  {
   "cell_type": "code",
   "execution_count": null,
   "metadata": {
    "scrolled": false
   },
   "outputs": [],
   "source": [
    "result_combo = []\n",
    "\n",
    "for j in np.arange(0,len(selected)):\n",
    "    \n",
    "    C_pos,C_neg,gamma = selected.iloc[j,0:3]\n",
    "    w,b,w1,w2,d1,d2 = SVMplus(train,C_pos,C_neg,gamma)\n",
    "    count = 0\n",
    "    result = []\n",
    "    \n",
    "    for i in range(0,train.shape[0]):\n",
    "        if train.iloc[i][0] == \"GP\" :\n",
    "            result.append(sum(train.iloc[i][1:-1]*w)+b+sum(train.iloc[i][1:-1]*w1)+d1)\n",
    "        else:\n",
    "            result.append(sum(train.iloc[i][1:-1]*w)+b+sum(train.iloc[i][1:-1]*w2)+d2)\n",
    "    \n",
    "    result = np.array(result)/abs(np.array(result))\n",
    "    result_combo.append(result)\n",
    "    print(j+1,\":training confusion matrix:\\n\",confusion_matrix(train[\"target\"],result))\n",
    "    print(\"%f\" % ((confusion_matrix(train[\"target\"],result)[0,0]+confusion_matrix(train[\"target\"],result)[1,1])/train.shape[0]),\"%\")\n",
    "\n",
    "voted = np.squeeze(np.asarray(sum(np.matrix(result_combo)/abs(np.matrix(result_combo)))))/abs(np.squeeze(np.asarray(sum(np.matrix(result_combo)/abs(np.matrix(result_combo))))))\n",
    "print(\"voted confusion matrix:\\n\",confusion_matrix(train[\"target\"],voted))\n",
    "print(\"%f\" % ((confusion_matrix(train[\"target\"],voted)[0,0]+confusion_matrix(train[\"target\"],voted)[1,1])/train.shape[0]),\"%\")\n",
    "print(\"-1:\",\"%f\" % (confusion_matrix(train[\"target\"],voted)[0,0]/sum(confusion_matrix(train[\"target\"],voted)[0,:])),\"%\")\n",
    "print(\"1:\",\"%f\" % (confusion_matrix(train[\"target\"],voted)[1,1]/sum(confusion_matrix(train[\"target\"],voted)[1,:])),\"%\")"
   ]
  },
  {
   "cell_type": "markdown",
   "metadata": {},
   "source": [
    "## Test Accuracy and Confusion Matrix"
   ]
  },
  {
   "cell_type": "markdown",
   "metadata": {},
   "source": [
    "#### Check results"
   ]
  },
  {
   "cell_type": "code",
   "execution_count": null,
   "metadata": {},
   "outputs": [],
   "source": [
    "result_combo_test = []\n",
    "\n",
    "for j in np.arange(0,len(selected)):\n",
    "    \n",
    "    C_pos,C_neg,gamma = selected.iloc[j,0:3]\n",
    "    result = []\n",
    "    \n",
    "    for i in range(0,train.shape[0]):\n",
    "        X_test = train.iloc[i,0:-1]\n",
    "        w,b,w1,w2,d1,d2 = SVMplus(train.drop(train.index[i]),C_pos,C_neg,gamma)\n",
    "        if X_test[0] == \"GP\" :\n",
    "            result.append(sum(X_test[1:]*w)+b+sum(X_test[1:]*w1)+d1)\n",
    "        elif X_test[0] == \"MS\":\n",
    "            result.append(sum(X_test[1:]*w)+b+sum(X_test[1:]*w2)+d2)\n",
    "    \n",
    "    result = np.array(result)/abs(np.array(result))\n",
    "    result_combo_test.append(result)\n",
    "    print(j+1,\":test confusion matrix:\\n\",confusion_matrix(train[\"target\"],result))\n",
    "    print(\"%f\" % ((confusion_matrix(train[\"target\"],result)[0,0]+confusion_matrix(train[\"target\"],result)[1,1])/train.shape[0]),\"%\")\n",
    "\n",
    "voted_test = np.squeeze(np.asarray(sum(np.matrix(result_combo_test)/abs(np.matrix(result_combo_test)))))/abs(np.squeeze(np.asarray(sum(np.matrix(result_combo_test)/abs(np.matrix(result_combo_test))))))\n",
    "print(\"voted confusion matrix:\\n\",confusion_matrix(train[\"target\"],voted_test))\n",
    "print(\"%f\" % ((confusion_matrix(train[\"target\"],voted_test)[0,0]+confusion_matrix(train[\"target\"],voted_test)[1,1])/train.shape[0]),\"%\")\n",
    "print(\"-1:\",\"%f\" % (confusion_matrix(train[\"target\"],voted_test)[0,0]/sum(confusion_matrix(train[\"target\"],voted_test)[0,:])),\"%\")\n",
    "print(\"1:\",\"%f\" % (confusion_matrix(train[\"target\"],voted_test)[1,1]/sum(confusion_matrix(train[\"target\"],voted_test)[1,:])),\"%\")"
   ]
  }
 ],
 "metadata": {
  "kernelspec": {
   "display_name": "Python 3",
   "language": "python",
   "name": "python3"
  },
  "language_info": {
   "codemirror_mode": {
    "name": "ipython",
    "version": 3
   },
   "file_extension": ".py",
   "mimetype": "text/x-python",
   "name": "python",
   "nbconvert_exporter": "python",
   "pygments_lexer": "ipython3",
   "version": "3.7.3"
  }
 },
 "nbformat": 4,
 "nbformat_minor": 2
}
